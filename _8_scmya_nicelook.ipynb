{
 "cells": [
  {
   "cell_type": "markdown",
   "metadata": {},
   "source": [
    "#### 8 (pdf до 20 Мб)\n",
    "#### DF:\n",
    "Январь 2022 года:   <br>cutlery — количество столовых приборов <br>\n",
    "                    date — дата и время покупки <br>\n",
    "                    order_price — сумма заказа <br>\n",
    "                    uid — уникальный id пользователя <br>\n",
    "                    tips — сумма чаевых<br>\n",
    "                    order_id — уникальный номер заказа<br>\n",
    "#### hyp:\n",
    "uids WITH cutlery >2 HAVE tips > THEN OTHERS uids\n",
    "#### agr:\n",
    "COUNT uids WITH (cutlery >2 & date NOT IN range(01.01.2022, 09.01.2022) & order_price > 800)"
   ]
  },
  {
   "cell_type": "code",
   "execution_count": 43,
   "metadata": {},
   "outputs": [
    {
     "name": "stdout",
     "output_type": "stream",
     "text": [
      "Populating the interactive namespace from numpy and matplotlib\n"
     ]
    }
   ],
   "source": [
    "import pandas as pd\n",
    "import numpy as np\n",
    "\n",
    "from statsmodels.stats.weightstats import *\n",
    "from sklearn.model_selection import train_test_split\n",
    "from sklearn.linear_model import LinearRegression\n",
    "from sklearn.metrics import mean_squared_error\n",
    "from sklearn.ensemble import RandomForestRegressor\n",
    "\n",
    "import warnings\n",
    "warnings.filterwarnings('ignore')\n",
    "\n",
    "%pylab inline"
   ]
  },
  {
   "cell_type": "markdown",
   "metadata": {},
   "source": [
    "#### Посмотрим на данные"
   ]
  },
  {
   "cell_type": "code",
   "execution_count": 44,
   "metadata": {},
   "outputs": [
    {
     "name": "stdout",
     "output_type": "stream",
     "text": [
      "<class 'pandas.core.frame.DataFrame'>\n",
      "RangeIndex: 26057 entries, 0 to 26056\n",
      "Data columns (total 6 columns):\n",
      " #   Column       Non-Null Count  Dtype         \n",
      "---  ------       --------------  -----         \n",
      " 0   date         26057 non-null  datetime64[ns]\n",
      " 1   cutlery      26057 non-null  int64         \n",
      " 2   tips         26057 non-null  int64         \n",
      " 3   order_price  26057 non-null  int64         \n",
      " 4   uid          26057 non-null  int64         \n",
      " 5   order_id     26057 non-null  int64         \n",
      "dtypes: datetime64[ns](1), int64(5)\n",
      "memory usage: 1.2 MB\n"
     ]
    }
   ],
   "source": [
    "tips = pd.read_csv('shmya_final_version.csv')\n",
    "tips.date = tips.date.astype('datetime64')\n",
    "tips.info()\n"
   ]
  },
  {
   "cell_type": "code",
   "execution_count": 45,
   "metadata": {},
   "outputs": [
    {
     "data": {
      "text/html": [
       "<div>\n",
       "<style scoped>\n",
       "    .dataframe tbody tr th:only-of-type {\n",
       "        vertical-align: middle;\n",
       "    }\n",
       "\n",
       "    .dataframe tbody tr th {\n",
       "        vertical-align: top;\n",
       "    }\n",
       "\n",
       "    .dataframe thead th {\n",
       "        text-align: right;\n",
       "    }\n",
       "</style>\n",
       "<table border=\"1\" class=\"dataframe\">\n",
       "  <thead>\n",
       "    <tr style=\"text-align: right;\">\n",
       "      <th></th>\n",
       "      <th>date</th>\n",
       "      <th>cutlery</th>\n",
       "      <th>tips</th>\n",
       "      <th>order_price</th>\n",
       "      <th>uid</th>\n",
       "      <th>order_id</th>\n",
       "    </tr>\n",
       "  </thead>\n",
       "  <tbody>\n",
       "    <tr>\n",
       "      <th>0</th>\n",
       "      <td>2022-01-17 06:38:43</td>\n",
       "      <td>3</td>\n",
       "      <td>100</td>\n",
       "      <td>1001</td>\n",
       "      <td>120967</td>\n",
       "      <td>73041443</td>\n",
       "    </tr>\n",
       "    <tr>\n",
       "      <th>1</th>\n",
       "      <td>2022-01-23 11:09:22</td>\n",
       "      <td>4</td>\n",
       "      <td>110</td>\n",
       "      <td>309</td>\n",
       "      <td>325757</td>\n",
       "      <td>60500835</td>\n",
       "    </tr>\n",
       "    <tr>\n",
       "      <th>2</th>\n",
       "      <td>2022-01-24 19:40:03</td>\n",
       "      <td>1</td>\n",
       "      <td>10</td>\n",
       "      <td>891</td>\n",
       "      <td>986730</td>\n",
       "      <td>43230531</td>\n",
       "    </tr>\n",
       "    <tr>\n",
       "      <th>3</th>\n",
       "      <td>2022-01-14 18:01:22</td>\n",
       "      <td>5</td>\n",
       "      <td>70</td>\n",
       "      <td>749</td>\n",
       "      <td>868648</td>\n",
       "      <td>46180789</td>\n",
       "    </tr>\n",
       "    <tr>\n",
       "      <th>4</th>\n",
       "      <td>2022-01-19 22:32:43</td>\n",
       "      <td>2</td>\n",
       "      <td>10</td>\n",
       "      <td>469</td>\n",
       "      <td>863523</td>\n",
       "      <td>59266169</td>\n",
       "    </tr>\n",
       "  </tbody>\n",
       "</table>\n",
       "</div>"
      ],
      "text/plain": [
       "                 date  cutlery  tips  order_price     uid  order_id\n",
       "0 2022-01-17 06:38:43        3   100         1001  120967  73041443\n",
       "1 2022-01-23 11:09:22        4   110          309  325757  60500835\n",
       "2 2022-01-24 19:40:03        1    10          891  986730  43230531\n",
       "3 2022-01-14 18:01:22        5    70          749  868648  46180789\n",
       "4 2022-01-19 22:32:43        2    10          469  863523  59266169"
      ]
     },
     "execution_count": 45,
     "metadata": {},
     "output_type": "execute_result"
    }
   ],
   "source": [
    "tips.head()"
   ]
  },
  {
   "cell_type": "markdown",
   "metadata": {},
   "source": [
    "#### Сначала попробуем второе задание (выборка сегмента коммуникации) - в нем, похоже, нет подвоха"
   ]
  },
  {
   "cell_type": "code",
   "execution_count": 46,
   "metadata": {},
   "outputs": [
    {
     "data": {
      "text/plain": [
       "array([120967, 255228, 781632, ..., 207178, 739019, 908699])"
      ]
     },
     "execution_count": 46,
     "metadata": {},
     "output_type": "execute_result"
    }
   ],
   "source": [
    "special_uids = tips[(tips.cutlery > 2) & (tips.date > datetime.datetime(2022, 1, 10)) & (tips.order_price > 800)].uid.unique()\n",
    "special_uids"
   ]
  },
  {
   "cell_type": "code",
   "execution_count": 47,
   "metadata": {},
   "outputs": [
    {
     "name": "stdout",
     "output_type": "stream",
     "text": [
      "Все uid пользователей, которые добавляли в заказ больше двух комплектов столовых приборов и делали заказ не в январские праздники на сумму больше 800p - в переменной special_uids. Количество таких пользователей - 2541\n"
     ]
    }
   ],
   "source": [
    "print('Все uid пользователей, которые добавляли в заказ больше двух комплектов столовых приборов и делали заказ не в январские праздники на сумму больше 800p - в переменной special_uids. Количество таких пользователей -',\n",
    "      special_uids.shape[0])"
   ]
  },
  {
   "cell_type": "markdown",
   "metadata": {},
   "source": [
    "#### Теперь проверка гипотезы"
   ]
  },
  {
   "cell_type": "code",
   "execution_count": 48,
   "metadata": {},
   "outputs": [
    {
     "name": "stdout",
     "output_type": "stream",
     "text": [
      "средние чаевые в заказах с >2 приборов - 66.19 ; средние чаевые в заказах с <=2 приборов - 51.56\n"
     ]
    }
   ],
   "source": [
    "mean_more2 = tips[tips.cutlery > 2].tips.mean()\n",
    "mean_less3 = tips[tips.cutlery <= 2].tips.mean()\n",
    "print('средние чаевые в заказах с >2 приборов -', round(mean_more2, 2), \n",
    "      '; средние чаевые в заказах с <=2 приборов -', round(mean_less3, 2))"
   ]
  },
  {
   "cell_type": "markdown",
   "metadata": {},
   "source": [
    "Это характеристики заказов (на самом деле нет, но об этом ниже), наша же гипотеза - \"пользователи, которые выбирают больше двух комплектов приборов, оставляют больше чаевых, чем остальные\" \n",
    "<br><br>Как можно интерпретировать эту формулировку:\n",
    "<br>пользователи, которые всегда берут >2 приборов (ВСЕГДА-пользователи)\n",
    "<br>или\n",
    "<br>пользователи, которые хоть раз брали >2 приборов (ИНОГДА-пользователи)"
   ]
  },
  {
   "cell_type": "code",
   "execution_count": 49,
   "metadata": {},
   "outputs": [
    {
     "name": "stdout",
     "output_type": "stream",
     "text": [
      "всего уникальных пользователей - 6433\n"
     ]
    }
   ],
   "source": [
    "print('всего уникальных пользователей -', tips.uid.unique().shape[0])"
   ]
  },
  {
   "cell_type": "code",
   "execution_count": 50,
   "metadata": {},
   "outputs": [
    {
     "name": "stdout",
     "output_type": "stream",
     "text": [
      "пользователи, которые хоть раз брали >2 приборов - 5719 , остальные - 714\n"
     ]
    }
   ],
   "source": [
    "# ИНОГДА пользователей\n",
    "a = tips[tips.cutlery > 2].uid.unique()\n",
    "# !ИНОГДА\n",
    "b = np.setdiff1d(tips.uid.unique(), a)\n",
    "print('пользователи, которые хоть раз брали >2 приборов -', a.shape[0], \n",
    "      ', остальные -', b.shape[0])"
   ]
  },
  {
   "cell_type": "markdown",
   "metadata": {},
   "source": [
    "#### тут хочется остановится на датах - январские праздники - это интересно, но для проверки гипотезы это может быть \"выбросом\" - сгруппируем по датам, чтобы сравнить данные на каникулах и в остальные дни"
   ]
  },
  {
   "cell_type": "code",
   "execution_count": 51,
   "metadata": {},
   "outputs": [
    {
     "data": {
      "text/html": [
       "<div>\n",
       "<style scoped>\n",
       "    .dataframe tbody tr th:only-of-type {\n",
       "        vertical-align: middle;\n",
       "    }\n",
       "\n",
       "    .dataframe tbody tr th {\n",
       "        vertical-align: top;\n",
       "    }\n",
       "\n",
       "    .dataframe thead th {\n",
       "        text-align: right;\n",
       "    }\n",
       "</style>\n",
       "<table border=\"1\" class=\"dataframe\">\n",
       "  <thead>\n",
       "    <tr style=\"text-align: right;\">\n",
       "      <th></th>\n",
       "      <th>date</th>\n",
       "      <th>cutlery</th>\n",
       "      <th>tips</th>\n",
       "      <th>order_price</th>\n",
       "      <th>uid_x</th>\n",
       "      <th>order_id_x</th>\n",
       "      <th>uid_y</th>\n",
       "      <th>order_id_y</th>\n",
       "    </tr>\n",
       "  </thead>\n",
       "  <tbody>\n",
       "    <tr>\n",
       "      <th>0</th>\n",
       "      <td>2022-01-01</td>\n",
       "      <td>15992</td>\n",
       "      <td>54390</td>\n",
       "      <td>511788</td>\n",
       "      <td>3043</td>\n",
       "      <td>3048</td>\n",
       "      <td>3506</td>\n",
       "      <td>3506</td>\n",
       "    </tr>\n",
       "    <tr>\n",
       "      <th>1</th>\n",
       "      <td>2022-01-02</td>\n",
       "      <td>2269</td>\n",
       "      <td>53000</td>\n",
       "      <td>526855</td>\n",
       "      <td>734</td>\n",
       "      <td>734</td>\n",
       "      <td>773</td>\n",
       "      <td>773</td>\n",
       "    </tr>\n",
       "    <tr>\n",
       "      <th>2</th>\n",
       "      <td>2022-01-03</td>\n",
       "      <td>2300</td>\n",
       "      <td>51230</td>\n",
       "      <td>520637</td>\n",
       "      <td>752</td>\n",
       "      <td>753</td>\n",
       "      <td>785</td>\n",
       "      <td>785</td>\n",
       "    </tr>\n",
       "    <tr>\n",
       "      <th>3</th>\n",
       "      <td>2022-01-04</td>\n",
       "      <td>2222</td>\n",
       "      <td>50870</td>\n",
       "      <td>517028</td>\n",
       "      <td>708</td>\n",
       "      <td>708</td>\n",
       "      <td>751</td>\n",
       "      <td>751</td>\n",
       "    </tr>\n",
       "    <tr>\n",
       "      <th>4</th>\n",
       "      <td>2022-01-05</td>\n",
       "      <td>2245</td>\n",
       "      <td>52700</td>\n",
       "      <td>516428</td>\n",
       "      <td>730</td>\n",
       "      <td>730</td>\n",
       "      <td>772</td>\n",
       "      <td>772</td>\n",
       "    </tr>\n",
       "    <tr>\n",
       "      <th>5</th>\n",
       "      <td>2022-01-06</td>\n",
       "      <td>2227</td>\n",
       "      <td>51100</td>\n",
       "      <td>497916</td>\n",
       "      <td>701</td>\n",
       "      <td>701</td>\n",
       "      <td>733</td>\n",
       "      <td>733</td>\n",
       "    </tr>\n",
       "    <tr>\n",
       "      <th>6</th>\n",
       "      <td>2022-01-07</td>\n",
       "      <td>2307</td>\n",
       "      <td>51470</td>\n",
       "      <td>514500</td>\n",
       "      <td>723</td>\n",
       "      <td>723</td>\n",
       "      <td>770</td>\n",
       "      <td>770</td>\n",
       "    </tr>\n",
       "    <tr>\n",
       "      <th>7</th>\n",
       "      <td>2022-01-08</td>\n",
       "      <td>2215</td>\n",
       "      <td>51410</td>\n",
       "      <td>496476</td>\n",
       "      <td>711</td>\n",
       "      <td>711</td>\n",
       "      <td>746</td>\n",
       "      <td>746</td>\n",
       "    </tr>\n",
       "    <tr>\n",
       "      <th>8</th>\n",
       "      <td>2022-01-09</td>\n",
       "      <td>2212</td>\n",
       "      <td>50700</td>\n",
       "      <td>499900</td>\n",
       "      <td>699</td>\n",
       "      <td>700</td>\n",
       "      <td>745</td>\n",
       "      <td>745</td>\n",
       "    </tr>\n",
       "    <tr>\n",
       "      <th>9</th>\n",
       "      <td>2022-01-10</td>\n",
       "      <td>2128</td>\n",
       "      <td>49800</td>\n",
       "      <td>478029</td>\n",
       "      <td>663</td>\n",
       "      <td>663</td>\n",
       "      <td>707</td>\n",
       "      <td>707</td>\n",
       "    </tr>\n",
       "    <tr>\n",
       "      <th>10</th>\n",
       "      <td>2022-01-11</td>\n",
       "      <td>2123</td>\n",
       "      <td>48650</td>\n",
       "      <td>491704</td>\n",
       "      <td>687</td>\n",
       "      <td>687</td>\n",
       "      <td>715</td>\n",
       "      <td>715</td>\n",
       "    </tr>\n",
       "    <tr>\n",
       "      <th>11</th>\n",
       "      <td>2022-01-12</td>\n",
       "      <td>2243</td>\n",
       "      <td>52200</td>\n",
       "      <td>508001</td>\n",
       "      <td>697</td>\n",
       "      <td>697</td>\n",
       "      <td>738</td>\n",
       "      <td>738</td>\n",
       "    </tr>\n",
       "    <tr>\n",
       "      <th>12</th>\n",
       "      <td>2022-01-13</td>\n",
       "      <td>2148</td>\n",
       "      <td>51050</td>\n",
       "      <td>487352</td>\n",
       "      <td>694</td>\n",
       "      <td>694</td>\n",
       "      <td>730</td>\n",
       "      <td>730</td>\n",
       "    </tr>\n",
       "    <tr>\n",
       "      <th>13</th>\n",
       "      <td>2022-01-14</td>\n",
       "      <td>2284</td>\n",
       "      <td>49900</td>\n",
       "      <td>514557</td>\n",
       "      <td>721</td>\n",
       "      <td>721</td>\n",
       "      <td>759</td>\n",
       "      <td>759</td>\n",
       "    </tr>\n",
       "    <tr>\n",
       "      <th>14</th>\n",
       "      <td>2022-01-15</td>\n",
       "      <td>2229</td>\n",
       "      <td>48860</td>\n",
       "      <td>508295</td>\n",
       "      <td>718</td>\n",
       "      <td>718</td>\n",
       "      <td>750</td>\n",
       "      <td>750</td>\n",
       "    </tr>\n",
       "    <tr>\n",
       "      <th>15</th>\n",
       "      <td>2022-01-16</td>\n",
       "      <td>2222</td>\n",
       "      <td>52220</td>\n",
       "      <td>511323</td>\n",
       "      <td>701</td>\n",
       "      <td>701</td>\n",
       "      <td>738</td>\n",
       "      <td>738</td>\n",
       "    </tr>\n",
       "    <tr>\n",
       "      <th>16</th>\n",
       "      <td>2022-01-17</td>\n",
       "      <td>2299</td>\n",
       "      <td>51800</td>\n",
       "      <td>509450</td>\n",
       "      <td>728</td>\n",
       "      <td>729</td>\n",
       "      <td>771</td>\n",
       "      <td>771</td>\n",
       "    </tr>\n",
       "    <tr>\n",
       "      <th>17</th>\n",
       "      <td>2022-01-18</td>\n",
       "      <td>2179</td>\n",
       "      <td>49820</td>\n",
       "      <td>502098</td>\n",
       "      <td>689</td>\n",
       "      <td>689</td>\n",
       "      <td>739</td>\n",
       "      <td>739</td>\n",
       "    </tr>\n",
       "    <tr>\n",
       "      <th>18</th>\n",
       "      <td>2022-01-19</td>\n",
       "      <td>2078</td>\n",
       "      <td>47450</td>\n",
       "      <td>470077</td>\n",
       "      <td>671</td>\n",
       "      <td>671</td>\n",
       "      <td>701</td>\n",
       "      <td>701</td>\n",
       "    </tr>\n",
       "    <tr>\n",
       "      <th>19</th>\n",
       "      <td>2022-01-20</td>\n",
       "      <td>2284</td>\n",
       "      <td>51050</td>\n",
       "      <td>502121</td>\n",
       "      <td>701</td>\n",
       "      <td>701</td>\n",
       "      <td>738</td>\n",
       "      <td>738</td>\n",
       "    </tr>\n",
       "    <tr>\n",
       "      <th>20</th>\n",
       "      <td>2022-01-21</td>\n",
       "      <td>2253</td>\n",
       "      <td>51210</td>\n",
       "      <td>514433</td>\n",
       "      <td>733</td>\n",
       "      <td>733</td>\n",
       "      <td>761</td>\n",
       "      <td>761</td>\n",
       "    </tr>\n",
       "    <tr>\n",
       "      <th>21</th>\n",
       "      <td>2022-01-22</td>\n",
       "      <td>2260</td>\n",
       "      <td>49570</td>\n",
       "      <td>509368</td>\n",
       "      <td>725</td>\n",
       "      <td>725</td>\n",
       "      <td>763</td>\n",
       "      <td>763</td>\n",
       "    </tr>\n",
       "    <tr>\n",
       "      <th>22</th>\n",
       "      <td>2022-01-23</td>\n",
       "      <td>2200</td>\n",
       "      <td>50000</td>\n",
       "      <td>498146</td>\n",
       "      <td>690</td>\n",
       "      <td>691</td>\n",
       "      <td>732</td>\n",
       "      <td>732</td>\n",
       "    </tr>\n",
       "    <tr>\n",
       "      <th>23</th>\n",
       "      <td>2022-01-24</td>\n",
       "      <td>2330</td>\n",
       "      <td>53760</td>\n",
       "      <td>531272</td>\n",
       "      <td>752</td>\n",
       "      <td>752</td>\n",
       "      <td>793</td>\n",
       "      <td>793</td>\n",
       "    </tr>\n",
       "    <tr>\n",
       "      <th>24</th>\n",
       "      <td>2022-01-25</td>\n",
       "      <td>2348</td>\n",
       "      <td>53030</td>\n",
       "      <td>526290</td>\n",
       "      <td>737</td>\n",
       "      <td>737</td>\n",
       "      <td>775</td>\n",
       "      <td>775</td>\n",
       "    </tr>\n",
       "    <tr>\n",
       "      <th>25</th>\n",
       "      <td>2022-01-26</td>\n",
       "      <td>2398</td>\n",
       "      <td>55290</td>\n",
       "      <td>534911</td>\n",
       "      <td>762</td>\n",
       "      <td>762</td>\n",
       "      <td>792</td>\n",
       "      <td>792</td>\n",
       "    </tr>\n",
       "    <tr>\n",
       "      <th>26</th>\n",
       "      <td>2022-01-27</td>\n",
       "      <td>2402</td>\n",
       "      <td>54560</td>\n",
       "      <td>537116</td>\n",
       "      <td>752</td>\n",
       "      <td>753</td>\n",
       "      <td>794</td>\n",
       "      <td>794</td>\n",
       "    </tr>\n",
       "    <tr>\n",
       "      <th>27</th>\n",
       "      <td>2022-01-28</td>\n",
       "      <td>2156</td>\n",
       "      <td>51370</td>\n",
       "      <td>499474</td>\n",
       "      <td>690</td>\n",
       "      <td>691</td>\n",
       "      <td>727</td>\n",
       "      <td>727</td>\n",
       "    </tr>\n",
       "    <tr>\n",
       "      <th>28</th>\n",
       "      <td>2022-01-29</td>\n",
       "      <td>2224</td>\n",
       "      <td>51150</td>\n",
       "      <td>495960</td>\n",
       "      <td>708</td>\n",
       "      <td>708</td>\n",
       "      <td>745</td>\n",
       "      <td>745</td>\n",
       "    </tr>\n",
       "    <tr>\n",
       "      <th>29</th>\n",
       "      <td>2022-01-30</td>\n",
       "      <td>2327</td>\n",
       "      <td>51700</td>\n",
       "      <td>503609</td>\n",
       "      <td>721</td>\n",
       "      <td>721</td>\n",
       "      <td>756</td>\n",
       "      <td>756</td>\n",
       "    </tr>\n",
       "    <tr>\n",
       "      <th>30</th>\n",
       "      <td>2022-01-31</td>\n",
       "      <td>2220</td>\n",
       "      <td>52600</td>\n",
       "      <td>509842</td>\n",
       "      <td>717</td>\n",
       "      <td>718</td>\n",
       "      <td>752</td>\n",
       "      <td>752</td>\n",
       "    </tr>\n",
       "  </tbody>\n",
       "</table>\n",
       "</div>"
      ],
      "text/plain": [
       "         date  cutlery   tips  order_price  uid_x  order_id_x  uid_y  \\\n",
       "0  2022-01-01    15992  54390       511788   3043        3048   3506   \n",
       "1  2022-01-02     2269  53000       526855    734         734    773   \n",
       "2  2022-01-03     2300  51230       520637    752         753    785   \n",
       "3  2022-01-04     2222  50870       517028    708         708    751   \n",
       "4  2022-01-05     2245  52700       516428    730         730    772   \n",
       "5  2022-01-06     2227  51100       497916    701         701    733   \n",
       "6  2022-01-07     2307  51470       514500    723         723    770   \n",
       "7  2022-01-08     2215  51410       496476    711         711    746   \n",
       "8  2022-01-09     2212  50700       499900    699         700    745   \n",
       "9  2022-01-10     2128  49800       478029    663         663    707   \n",
       "10 2022-01-11     2123  48650       491704    687         687    715   \n",
       "11 2022-01-12     2243  52200       508001    697         697    738   \n",
       "12 2022-01-13     2148  51050       487352    694         694    730   \n",
       "13 2022-01-14     2284  49900       514557    721         721    759   \n",
       "14 2022-01-15     2229  48860       508295    718         718    750   \n",
       "15 2022-01-16     2222  52220       511323    701         701    738   \n",
       "16 2022-01-17     2299  51800       509450    728         729    771   \n",
       "17 2022-01-18     2179  49820       502098    689         689    739   \n",
       "18 2022-01-19     2078  47450       470077    671         671    701   \n",
       "19 2022-01-20     2284  51050       502121    701         701    738   \n",
       "20 2022-01-21     2253  51210       514433    733         733    761   \n",
       "21 2022-01-22     2260  49570       509368    725         725    763   \n",
       "22 2022-01-23     2200  50000       498146    690         691    732   \n",
       "23 2022-01-24     2330  53760       531272    752         752    793   \n",
       "24 2022-01-25     2348  53030       526290    737         737    775   \n",
       "25 2022-01-26     2398  55290       534911    762         762    792   \n",
       "26 2022-01-27     2402  54560       537116    752         753    794   \n",
       "27 2022-01-28     2156  51370       499474    690         691    727   \n",
       "28 2022-01-29     2224  51150       495960    708         708    745   \n",
       "29 2022-01-30     2327  51700       503609    721         721    756   \n",
       "30 2022-01-31     2220  52600       509842    717         718    752   \n",
       "\n",
       "    order_id_y  \n",
       "0         3506  \n",
       "1          773  \n",
       "2          785  \n",
       "3          751  \n",
       "4          772  \n",
       "5          733  \n",
       "6          770  \n",
       "7          746  \n",
       "8          745  \n",
       "9          707  \n",
       "10         715  \n",
       "11         738  \n",
       "12         730  \n",
       "13         759  \n",
       "14         750  \n",
       "15         738  \n",
       "16         771  \n",
       "17         739  \n",
       "18         701  \n",
       "19         738  \n",
       "20         761  \n",
       "21         763  \n",
       "22         732  \n",
       "23         793  \n",
       "24         775  \n",
       "25         792  \n",
       "26         794  \n",
       "27         727  \n",
       "28         745  \n",
       "29         756  \n",
       "30         752  "
      ]
     },
     "execution_count": 51,
     "metadata": {},
     "output_type": "execute_result"
    }
   ],
   "source": [
    "tips_shortdate = tips.copy()#[['date', 'cutlery', 'tips', 'order_price']].copy()\n",
    "tips_shortdate.date = tips_shortdate.date.astype('datetime64[D]')\n",
    "tips_shortdate_sums = tips_shortdate[['date', 'cutlery', 'tips', 'order_price']].groupby(tips_shortdate.date).sum()\n",
    "tips_shortdate_uniq = tips_shortdate[['uid', 'order_id']].groupby(tips_shortdate.date).nunique()\n",
    "tips_shortdate_check = tips_shortdate[['uid', 'order_id']].groupby(tips_shortdate.date).count()\n",
    "tips_shortdate = tips_shortdate_sums.merge(tips_shortdate_uniq, on='date').merge(tips_shortdate_check, on='date')\n",
    "tips_shortdate = tips_shortdate.reset_index()\n",
    "tips_shortdate"
   ]
  },
  {
   "cell_type": "markdown",
   "metadata": {},
   "source": [
    "#### похоже уникальные id заказов не такие уж и уникальные=) "
   ]
  },
  {
   "cell_type": "code",
   "execution_count": 52,
   "metadata": {},
   "outputs": [
    {
     "data": {
      "text/html": [
       "<div>\n",
       "<style scoped>\n",
       "    .dataframe tbody tr th:only-of-type {\n",
       "        vertical-align: middle;\n",
       "    }\n",
       "\n",
       "    .dataframe tbody tr th {\n",
       "        vertical-align: top;\n",
       "    }\n",
       "\n",
       "    .dataframe thead th {\n",
       "        text-align: right;\n",
       "    }\n",
       "</style>\n",
       "<table border=\"1\" class=\"dataframe\">\n",
       "  <thead>\n",
       "    <tr style=\"text-align: right;\">\n",
       "      <th></th>\n",
       "      <th>date</th>\n",
       "      <th>cutlery</th>\n",
       "      <th>tips</th>\n",
       "      <th>order_price</th>\n",
       "      <th>uid</th>\n",
       "      <th>order_id</th>\n",
       "    </tr>\n",
       "  </thead>\n",
       "  <tbody>\n",
       "    <tr>\n",
       "      <th>2825</th>\n",
       "      <td>2022-01-02 20:12:28</td>\n",
       "      <td>4</td>\n",
       "      <td>10</td>\n",
       "      <td>829</td>\n",
       "      <td>999572</td>\n",
       "      <td>10004061</td>\n",
       "    </tr>\n",
       "    <tr>\n",
       "      <th>20497</th>\n",
       "      <td>2022-01-12 07:04:02</td>\n",
       "      <td>3</td>\n",
       "      <td>40</td>\n",
       "      <td>805</td>\n",
       "      <td>999572</td>\n",
       "      <td>10004061</td>\n",
       "    </tr>\n",
       "    <tr>\n",
       "      <th>16585</th>\n",
       "      <td>2022-01-30 02:09:05</td>\n",
       "      <td>5</td>\n",
       "      <td>90</td>\n",
       "      <td>503</td>\n",
       "      <td>999572</td>\n",
       "      <td>10004061</td>\n",
       "    </tr>\n",
       "    <tr>\n",
       "      <th>22131</th>\n",
       "      <td>2022-01-15 00:58:02</td>\n",
       "      <td>4</td>\n",
       "      <td>30</td>\n",
       "      <td>687</td>\n",
       "      <td>691367</td>\n",
       "      <td>10013767</td>\n",
       "    </tr>\n",
       "    <tr>\n",
       "      <th>9408</th>\n",
       "      <td>2022-01-08 05:24:57</td>\n",
       "      <td>1</td>\n",
       "      <td>50</td>\n",
       "      <td>705</td>\n",
       "      <td>691367</td>\n",
       "      <td>10013767</td>\n",
       "    </tr>\n",
       "    <tr>\n",
       "      <th>...</th>\n",
       "      <td>...</td>\n",
       "      <td>...</td>\n",
       "      <td>...</td>\n",
       "      <td>...</td>\n",
       "      <td>...</td>\n",
       "      <td>...</td>\n",
       "    </tr>\n",
       "    <tr>\n",
       "      <th>11665</th>\n",
       "      <td>2022-01-26 14:00:56</td>\n",
       "      <td>2</td>\n",
       "      <td>30</td>\n",
       "      <td>524</td>\n",
       "      <td>755602</td>\n",
       "      <td>99939588</td>\n",
       "    </tr>\n",
       "    <tr>\n",
       "      <th>7320</th>\n",
       "      <td>2022-01-01 16:48:58</td>\n",
       "      <td>4</td>\n",
       "      <td>0</td>\n",
       "      <td>0</td>\n",
       "      <td>755602</td>\n",
       "      <td>99939588</td>\n",
       "    </tr>\n",
       "    <tr>\n",
       "      <th>17730</th>\n",
       "      <td>2022-01-01 20:37:52</td>\n",
       "      <td>3</td>\n",
       "      <td>60</td>\n",
       "      <td>446</td>\n",
       "      <td>755602</td>\n",
       "      <td>99939588</td>\n",
       "    </tr>\n",
       "    <tr>\n",
       "      <th>2586</th>\n",
       "      <td>2022-01-17 10:38:23</td>\n",
       "      <td>1</td>\n",
       "      <td>40</td>\n",
       "      <td>780</td>\n",
       "      <td>690072</td>\n",
       "      <td>99976909</td>\n",
       "    </tr>\n",
       "    <tr>\n",
       "      <th>17775</th>\n",
       "      <td>2022-01-27 21:01:08</td>\n",
       "      <td>3</td>\n",
       "      <td>10</td>\n",
       "      <td>839</td>\n",
       "      <td>690072</td>\n",
       "      <td>99976909</td>\n",
       "    </tr>\n",
       "  </tbody>\n",
       "</table>\n",
       "<p>25400 rows × 6 columns</p>\n",
       "</div>"
      ],
      "text/plain": [
       "                     date  cutlery  tips  order_price     uid  order_id\n",
       "2825  2022-01-02 20:12:28        4    10          829  999572  10004061\n",
       "20497 2022-01-12 07:04:02        3    40          805  999572  10004061\n",
       "16585 2022-01-30 02:09:05        5    90          503  999572  10004061\n",
       "22131 2022-01-15 00:58:02        4    30          687  691367  10013767\n",
       "9408  2022-01-08 05:24:57        1    50          705  691367  10013767\n",
       "...                   ...      ...   ...          ...     ...       ...\n",
       "11665 2022-01-26 14:00:56        2    30          524  755602  99939588\n",
       "7320  2022-01-01 16:48:58        4     0            0  755602  99939588\n",
       "17730 2022-01-01 20:37:52        3    60          446  755602  99939588\n",
       "2586  2022-01-17 10:38:23        1    40          780  690072  99976909\n",
       "17775 2022-01-27 21:01:08        3    10          839  690072  99976909\n",
       "\n",
       "[25400 rows x 6 columns]"
      ]
     },
     "execution_count": 52,
     "metadata": {},
     "output_type": "execute_result"
    }
   ],
   "source": [
    "ids = tips.order_id\n",
    "tips[ids.isin(ids[ids.duplicated()])].sort_values('order_id')"
   ]
  },
  {
   "cell_type": "markdown",
   "metadata": {},
   "source": [
    "#### id заказов образуют пары с id пользователей"
   ]
  },
  {
   "cell_type": "markdown",
   "metadata": {},
   "source": [
    "посмотрим на распределение данных по датам"
   ]
  },
  {
   "cell_type": "code",
   "execution_count": 53,
   "metadata": {
    "scrolled": false
   },
   "outputs": [
    {
     "data": {
      "image/png": "[encoded data removed]",
      "text/plain": [
       "<Figure size 1152x2304 with 7 Axes>"
      ]
     },
     "metadata": {
      "needs_background": "light"
     },
     "output_type": "display_data"
    }
   ],
   "source": [
    "pyplot.figure(figsize(16, 32))\n",
    "for i in range (1, 8):\n",
    "    pyplot.subplot(7, 1, i)\n",
    "    pyplot.scatter(tips_shortdate['date'], tips_shortdate.iloc[:, i], edgecolors=\"black\")\n",
    "    pyplot.xlabel('dates', fontsize=14)\n",
    "    pyplot.ylabel(str(tips_shortdate.columns[i]), fontsize=14)"
   ]
  },
  {
   "cell_type": "markdown",
   "metadata": {},
   "source": [
    "#### да, 01.01 ситуация нетиповая\n",
    "наверное, это можно интерпритировать как \"у нас с НГ остались салаты и гости, давайте закажем что-нибудь легкое и побольше приборов на всех\", при этом сумма заказов осталась на среднем уровне, идем дальше\n"
   ]
  },
  {
   "cell_type": "code",
   "execution_count": 54,
   "metadata": {},
   "outputs": [
    {
     "data": {
      "text/html": [
       "<div>\n",
       "<style scoped>\n",
       "    .dataframe tbody tr th:only-of-type {\n",
       "        vertical-align: middle;\n",
       "    }\n",
       "\n",
       "    .dataframe tbody tr th {\n",
       "        vertical-align: top;\n",
       "    }\n",
       "\n",
       "    .dataframe thead th {\n",
       "        text-align: right;\n",
       "    }\n",
       "</style>\n",
       "<table border=\"1\" class=\"dataframe\">\n",
       "  <thead>\n",
       "    <tr style=\"text-align: right;\">\n",
       "      <th></th>\n",
       "      <th>date</th>\n",
       "      <th>cutlery</th>\n",
       "      <th>tips</th>\n",
       "      <th>order_price</th>\n",
       "      <th>uid</th>\n",
       "      <th>order_id</th>\n",
       "    </tr>\n",
       "  </thead>\n",
       "  <tbody>\n",
       "    <tr>\n",
       "      <th>0</th>\n",
       "      <td>2022-01-17 06:38:43</td>\n",
       "      <td>3</td>\n",
       "      <td>100</td>\n",
       "      <td>1001</td>\n",
       "      <td>120967</td>\n",
       "      <td>73041443</td>\n",
       "    </tr>\n",
       "    <tr>\n",
       "      <th>1</th>\n",
       "      <td>2022-01-23 11:09:22</td>\n",
       "      <td>4</td>\n",
       "      <td>110</td>\n",
       "      <td>309</td>\n",
       "      <td>325757</td>\n",
       "      <td>60500835</td>\n",
       "    </tr>\n",
       "    <tr>\n",
       "      <th>2</th>\n",
       "      <td>2022-01-24 19:40:03</td>\n",
       "      <td>1</td>\n",
       "      <td>10</td>\n",
       "      <td>891</td>\n",
       "      <td>986730</td>\n",
       "      <td>43230531</td>\n",
       "    </tr>\n",
       "    <tr>\n",
       "      <th>3</th>\n",
       "      <td>2022-01-14 18:01:22</td>\n",
       "      <td>5</td>\n",
       "      <td>70</td>\n",
       "      <td>749</td>\n",
       "      <td>868648</td>\n",
       "      <td>46180789</td>\n",
       "    </tr>\n",
       "    <tr>\n",
       "      <th>4</th>\n",
       "      <td>2022-01-19 22:32:43</td>\n",
       "      <td>2</td>\n",
       "      <td>10</td>\n",
       "      <td>469</td>\n",
       "      <td>863523</td>\n",
       "      <td>59266169</td>\n",
       "    </tr>\n",
       "    <tr>\n",
       "      <th>...</th>\n",
       "      <td>...</td>\n",
       "      <td>...</td>\n",
       "      <td>...</td>\n",
       "      <td>...</td>\n",
       "      <td>...</td>\n",
       "      <td>...</td>\n",
       "    </tr>\n",
       "    <tr>\n",
       "      <th>26052</th>\n",
       "      <td>2022-01-04 05:21:39</td>\n",
       "      <td>4</td>\n",
       "      <td>10</td>\n",
       "      <td>763</td>\n",
       "      <td>182587</td>\n",
       "      <td>85041983</td>\n",
       "    </tr>\n",
       "    <tr>\n",
       "      <th>26053</th>\n",
       "      <td>2022-01-18 14:43:12</td>\n",
       "      <td>3</td>\n",
       "      <td>60</td>\n",
       "      <td>790</td>\n",
       "      <td>187031</td>\n",
       "      <td>47894568</td>\n",
       "    </tr>\n",
       "    <tr>\n",
       "      <th>26054</th>\n",
       "      <td>2022-01-26 18:08:02</td>\n",
       "      <td>1</td>\n",
       "      <td>90</td>\n",
       "      <td>502</td>\n",
       "      <td>247419</td>\n",
       "      <td>75350869</td>\n",
       "    </tr>\n",
       "    <tr>\n",
       "      <th>26055</th>\n",
       "      <td>2022-01-18 05:55:09</td>\n",
       "      <td>2</td>\n",
       "      <td>80</td>\n",
       "      <td>418</td>\n",
       "      <td>474601</td>\n",
       "      <td>79438423</td>\n",
       "    </tr>\n",
       "    <tr>\n",
       "      <th>26056</th>\n",
       "      <td>2022-01-09 01:06:30</td>\n",
       "      <td>2</td>\n",
       "      <td>50</td>\n",
       "      <td>802</td>\n",
       "      <td>898956</td>\n",
       "      <td>87138202</td>\n",
       "    </tr>\n",
       "  </tbody>\n",
       "</table>\n",
       "<p>22551 rows × 6 columns</p>\n",
       "</div>"
      ],
      "text/plain": [
       "                     date  cutlery  tips  order_price     uid  order_id\n",
       "0     2022-01-17 06:38:43        3   100         1001  120967  73041443\n",
       "1     2022-01-23 11:09:22        4   110          309  325757  60500835\n",
       "2     2022-01-24 19:40:03        1    10          891  986730  43230531\n",
       "3     2022-01-14 18:01:22        5    70          749  868648  46180789\n",
       "4     2022-01-19 22:32:43        2    10          469  863523  59266169\n",
       "...                   ...      ...   ...          ...     ...       ...\n",
       "26052 2022-01-04 05:21:39        4    10          763  182587  85041983\n",
       "26053 2022-01-18 14:43:12        3    60          790  187031  47894568\n",
       "26054 2022-01-26 18:08:02        1    90          502  247419  75350869\n",
       "26055 2022-01-18 05:55:09        2    80          418  474601  79438423\n",
       "26056 2022-01-09 01:06:30        2    50          802  898956  87138202\n",
       "\n",
       "[22551 rows x 6 columns]"
      ]
     },
     "execution_count": 54,
     "metadata": {},
     "output_type": "execute_result"
    }
   ],
   "source": [
    "tips_from2 = tips[tips.date >= datetime.datetime(2022, 1, 2)]#.sort_values('date')\n",
    "tips_from2"
   ]
  },
  {
   "cell_type": "markdown",
   "metadata": {},
   "source": [
    "исследуя струткру данных также находим вот такой шаблон: "
   ]
  },
  {
   "cell_type": "code",
   "execution_count": 55,
   "metadata": {},
   "outputs": [
    {
     "data": {
      "text/html": [
       "<div>\n",
       "<style scoped>\n",
       "    .dataframe tbody tr th:only-of-type {\n",
       "        vertical-align: middle;\n",
       "    }\n",
       "\n",
       "    .dataframe tbody tr th {\n",
       "        vertical-align: top;\n",
       "    }\n",
       "\n",
       "    .dataframe thead th {\n",
       "        text-align: right;\n",
       "    }\n",
       "</style>\n",
       "<table border=\"1\" class=\"dataframe\">\n",
       "  <thead>\n",
       "    <tr style=\"text-align: right;\">\n",
       "      <th></th>\n",
       "      <th>date</th>\n",
       "      <th>cutlery</th>\n",
       "      <th>tips</th>\n",
       "      <th>order_price</th>\n",
       "      <th>uid</th>\n",
       "      <th>order_id</th>\n",
       "    </tr>\n",
       "  </thead>\n",
       "  <tbody>\n",
       "    <tr>\n",
       "      <th>6</th>\n",
       "      <td>2022-01-01 08:52:23</td>\n",
       "      <td>4</td>\n",
       "      <td>0</td>\n",
       "      <td>0</td>\n",
       "      <td>779134</td>\n",
       "      <td>15841612</td>\n",
       "    </tr>\n",
       "    <tr>\n",
       "      <th>7</th>\n",
       "      <td>2022-01-01 06:21:14</td>\n",
       "      <td>6</td>\n",
       "      <td>0</td>\n",
       "      <td>0</td>\n",
       "      <td>751242</td>\n",
       "      <td>83957554</td>\n",
       "    </tr>\n",
       "    <tr>\n",
       "      <th>26</th>\n",
       "      <td>2022-01-01 19:51:35</td>\n",
       "      <td>4</td>\n",
       "      <td>0</td>\n",
       "      <td>0</td>\n",
       "      <td>307676</td>\n",
       "      <td>43056019</td>\n",
       "    </tr>\n",
       "    <tr>\n",
       "      <th>49</th>\n",
       "      <td>2022-01-01 21:58:31</td>\n",
       "      <td>5</td>\n",
       "      <td>0</td>\n",
       "      <td>0</td>\n",
       "      <td>741562</td>\n",
       "      <td>51847053</td>\n",
       "    </tr>\n",
       "    <tr>\n",
       "      <th>54</th>\n",
       "      <td>2022-01-01 16:07:42</td>\n",
       "      <td>5</td>\n",
       "      <td>0</td>\n",
       "      <td>0</td>\n",
       "      <td>806167</td>\n",
       "      <td>49572522</td>\n",
       "    </tr>\n",
       "    <tr>\n",
       "      <th>...</th>\n",
       "      <td>...</td>\n",
       "      <td>...</td>\n",
       "      <td>...</td>\n",
       "      <td>...</td>\n",
       "      <td>...</td>\n",
       "      <td>...</td>\n",
       "    </tr>\n",
       "    <tr>\n",
       "      <th>26017</th>\n",
       "      <td>2022-01-01 10:44:21</td>\n",
       "      <td>4</td>\n",
       "      <td>0</td>\n",
       "      <td>0</td>\n",
       "      <td>107130</td>\n",
       "      <td>10564056</td>\n",
       "    </tr>\n",
       "    <tr>\n",
       "      <th>26035</th>\n",
       "      <td>2022-01-01 08:39:20</td>\n",
       "      <td>5</td>\n",
       "      <td>0</td>\n",
       "      <td>0</td>\n",
       "      <td>892785</td>\n",
       "      <td>78217751</td>\n",
       "    </tr>\n",
       "    <tr>\n",
       "      <th>26040</th>\n",
       "      <td>2022-01-01 02:29:59</td>\n",
       "      <td>4</td>\n",
       "      <td>0</td>\n",
       "      <td>0</td>\n",
       "      <td>776175</td>\n",
       "      <td>23958667</td>\n",
       "    </tr>\n",
       "    <tr>\n",
       "      <th>26042</th>\n",
       "      <td>2022-01-01 02:51:01</td>\n",
       "      <td>5</td>\n",
       "      <td>0</td>\n",
       "      <td>0</td>\n",
       "      <td>904144</td>\n",
       "      <td>17789596</td>\n",
       "    </tr>\n",
       "    <tr>\n",
       "      <th>26046</th>\n",
       "      <td>2022-01-01 05:19:26</td>\n",
       "      <td>6</td>\n",
       "      <td>0</td>\n",
       "      <td>0</td>\n",
       "      <td>929908</td>\n",
       "      <td>85220345</td>\n",
       "    </tr>\n",
       "  </tbody>\n",
       "</table>\n",
       "<p>2754 rows × 6 columns</p>\n",
       "</div>"
      ],
      "text/plain": [
       "                     date  cutlery  tips  order_price     uid  order_id\n",
       "6     2022-01-01 08:52:23        4     0            0  779134  15841612\n",
       "7     2022-01-01 06:21:14        6     0            0  751242  83957554\n",
       "26    2022-01-01 19:51:35        4     0            0  307676  43056019\n",
       "49    2022-01-01 21:58:31        5     0            0  741562  51847053\n",
       "54    2022-01-01 16:07:42        5     0            0  806167  49572522\n",
       "...                   ...      ...   ...          ...     ...       ...\n",
       "26017 2022-01-01 10:44:21        4     0            0  107130  10564056\n",
       "26035 2022-01-01 08:39:20        5     0            0  892785  78217751\n",
       "26040 2022-01-01 02:29:59        4     0            0  776175  23958667\n",
       "26042 2022-01-01 02:51:01        5     0            0  904144  17789596\n",
       "26046 2022-01-01 05:19:26        6     0            0  929908  85220345\n",
       "\n",
       "[2754 rows x 6 columns]"
      ]
     },
     "execution_count": 55,
     "metadata": {},
     "output_type": "execute_result"
    }
   ],
   "source": [
    "tips[tips.order_price == 0]"
   ]
  },
  {
   "cell_type": "code",
   "execution_count": 56,
   "metadata": {},
   "outputs": [
    {
     "data": {
      "text/html": [
       "<div>\n",
       "<style scoped>\n",
       "    .dataframe tbody tr th:only-of-type {\n",
       "        vertical-align: middle;\n",
       "    }\n",
       "\n",
       "    .dataframe tbody tr th {\n",
       "        vertical-align: top;\n",
       "    }\n",
       "\n",
       "    .dataframe thead th {\n",
       "        text-align: right;\n",
       "    }\n",
       "</style>\n",
       "<table border=\"1\" class=\"dataframe\">\n",
       "  <thead>\n",
       "    <tr style=\"text-align: right;\">\n",
       "      <th></th>\n",
       "      <th>date</th>\n",
       "      <th>cutlery</th>\n",
       "      <th>tips</th>\n",
       "      <th>order_price</th>\n",
       "      <th>uid</th>\n",
       "      <th>order_id</th>\n",
       "    </tr>\n",
       "  </thead>\n",
       "  <tbody>\n",
       "  </tbody>\n",
       "</table>\n",
       "</div>"
      ],
      "text/plain": [
       "Empty DataFrame\n",
       "Columns: [date, cutlery, tips, order_price, uid, order_id]\n",
       "Index: []"
      ]
     },
     "execution_count": 56,
     "metadata": {},
     "output_type": "execute_result"
    }
   ],
   "source": [
    "tips[(tips.order_price == 0) & (tips.tips != 0)]"
   ]
  },
  {
   "cell_type": "code",
   "execution_count": 57,
   "metadata": {},
   "outputs": [
    {
     "data": {
      "text/plain": [
       "4.974945533769064"
      ]
     },
     "execution_count": 57,
     "metadata": {},
     "output_type": "execute_result"
    }
   ],
   "source": [
    "tips[tips.order_price == 0].cutlery.mean()"
   ]
  },
  {
   "cell_type": "code",
   "execution_count": 58,
   "metadata": {},
   "outputs": [
    {
     "data": {
      "text/html": [
       "<div>\n",
       "<style scoped>\n",
       "    .dataframe tbody tr th:only-of-type {\n",
       "        vertical-align: middle;\n",
       "    }\n",
       "\n",
       "    .dataframe tbody tr th {\n",
       "        vertical-align: top;\n",
       "    }\n",
       "\n",
       "    .dataframe thead th {\n",
       "        text-align: right;\n",
       "    }\n",
       "</style>\n",
       "<table border=\"1\" class=\"dataframe\">\n",
       "  <thead>\n",
       "    <tr style=\"text-align: right;\">\n",
       "      <th></th>\n",
       "      <th>date</th>\n",
       "      <th>cutlery</th>\n",
       "      <th>tips</th>\n",
       "      <th>order_price</th>\n",
       "      <th>uid</th>\n",
       "      <th>order_id</th>\n",
       "    </tr>\n",
       "  </thead>\n",
       "  <tbody>\n",
       "  </tbody>\n",
       "</table>\n",
       "</div>"
      ],
      "text/plain": [
       "Empty DataFrame\n",
       "Columns: [date, cutlery, tips, order_price, uid, order_id]\n",
       "Index: []"
      ]
     },
     "execution_count": 58,
     "metadata": {},
     "output_type": "execute_result"
    }
   ],
   "source": [
    "tips_from2[tips_from2.order_price == 0]"
   ]
  },
  {
   "cell_type": "markdown",
   "metadata": {},
   "source": [
    "заказы с нулевой стоимостью (порядка 3000 записей) приходятся именно на 01.01, похоже, 01 января у Яндекс.Еды была акция по бесплатной доставке приборов - среднее их количество в \"нулевых\" заказах немного не дотягивает до 5"
   ]
  },
  {
   "cell_type": "markdown",
   "metadata": {},
   "source": [
    "сколько пользователей в выборке без 1 января"
   ]
  },
  {
   "cell_type": "code",
   "execution_count": 59,
   "metadata": {},
   "outputs": [
    {
     "name": "stdout",
     "output_type": "stream",
     "text": [
      "всего уникальных пользователей - 6413\n"
     ]
    }
   ],
   "source": [
    "print('всего уникальных пользователей -', tips_from2.uid.unique().shape[0])"
   ]
  },
  {
   "cell_type": "markdown",
   "metadata": {},
   "source": [
    "#### начнем с ИНОГДА гипотезы"
   ]
  },
  {
   "cell_type": "code",
   "execution_count": 60,
   "metadata": {},
   "outputs": [
    {
     "name": "stdout",
     "output_type": "stream",
     "text": [
      "пользователи, которые хоть раз брали >2 приборов - 5636 , остальные - 777\n"
     ]
    }
   ],
   "source": [
    "# ИНОГДА пользователей\n",
    "a = tips_from2[tips_from2.cutlery > 2].uid.unique()\n",
    "# НИКОГДА\n",
    "b = np.setdiff1d(tips_from2.uid.unique(), a)\n",
    "print('пользователи, которые хоть раз брали >2 приборов -', a.shape[0], \n",
    "      ', остальные -', b.shape[0])"
   ]
  },
  {
   "cell_type": "code",
   "execution_count": 61,
   "metadata": {},
   "outputs": [
    {
     "name": "stdout",
     "output_type": "stream",
     "text": [
      "средние чаевые в заказах пользователей, которые иногда >2 приборов - 70.16\n",
      "средние чаевые в заказах пользователей, которые никогда >2 приборов - 40.41\n"
     ]
    }
   ],
   "source": [
    "tips_more2 = tips_from2[tips_from2.uid.isin(a)]\n",
    "tips_less3 = tips_from2[tips_from2.uid.isin(b)]\n",
    "print('средние чаевые в заказах пользователей, которые иногда >2 приборов -', round(tips_more2.tips.mean(), 2)) \n",
    "print('средние чаевые в заказах пользователей, которые никогда >2 приборов -', round(tips_less3.tips.mean(), 2))"
   ]
  },
  {
   "cell_type": "markdown",
   "metadata": {},
   "source": [
    "оценим нормальность распределений"
   ]
  },
  {
   "cell_type": "code",
   "execution_count": 62,
   "metadata": {},
   "outputs": [
    {
     "data": {
      "image/png": "[encoded data removed]",
      "text/plain": [
       "<Figure size 1728x1152 with 2 Axes>"
      ]
     },
     "metadata": {
      "needs_background": "light"
     },
     "output_type": "display_data"
    }
   ],
   "source": [
    "pylab.figure(figsize=(24,16))\n",
    "pylab.subplot(2,2,1)\n",
    "stats.probplot(tips_more2.tips, dist=\"norm\", plot=pylab)\n",
    "pylab.subplot(2,2,2)\n",
    "stats.probplot(tips_less3.tips, dist=\"norm\", plot=pylab)\n",
    "pylab.show()"
   ]
  },
  {
   "cell_type": "code",
   "execution_count": 63,
   "metadata": {},
   "outputs": [
    {
     "name": "stdout",
     "output_type": "stream",
     "text": [
      "Shapiro-Wilk normality test, W-statistic: 0.948092, p-value: 0.000000\n",
      "Shapiro-Wilk normality test, W-statistic: 0.897732, p-value: 0.000000\n"
     ]
    }
   ],
   "source": [
    "print(\"Shapiro-Wilk normality test, W-statistic: %f, p-value: %f\" % stats.shapiro(tips_more2.tips))\n",
    "print(\"Shapiro-Wilk normality test, W-statistic: %f, p-value: %f\" % stats.shapiro(tips_less3.tips))"
   ]
  },
  {
   "cell_type": "markdown",
   "metadata": {},
   "source": [
    "похоже все вполне нормально=) используем двухвыборочный критерий Стьюдента для независимых выборок"
   ]
  },
  {
   "cell_type": "code",
   "execution_count": 64,
   "metadata": {},
   "outputs": [
    {
     "data": {
      "text/plain": [
       "Ttest_indResult(statistic=38.813560183154856, pvalue=1.3978370473346441e-245)"
      ]
     },
     "execution_count": 64,
     "metadata": {},
     "output_type": "execute_result"
    }
   ],
   "source": [
    "stats.ttest_ind(tips_more2.tips, tips_less3.tips, equal_var = False)"
   ]
  },
  {
   "cell_type": "markdown",
   "metadata": {},
   "source": [
    "#### считаю ИНОГДА гипотезу подтвержденной"
   ]
  },
  {
   "cell_type": "code",
   "execution_count": 65,
   "metadata": {},
   "outputs": [
    {
     "name": "stdout",
     "output_type": "stream",
     "text": [
      "пользователи, которые всегда брали >2 приборов - 292 , остальные - 6121\n"
     ]
    }
   ],
   "source": [
    "# ВСЕГДА пользователей\n",
    "a = tips_from2[tips_from2.cutlery > 2].uid.unique()\n",
    "c = tips_from2[tips_from2.cutlery <=3].uid.unique()\n",
    "a = np.setdiff1d(a, c)\n",
    "# НЕВСЕГДА\n",
    "b = np.setdiff1d(tips_from2.uid.unique(), a)\n",
    "print('пользователи, которые всегда брали >2 приборов -', a.shape[0], \n",
    "      ', остальные -', b.shape[0])"
   ]
  },
  {
   "cell_type": "code",
   "execution_count": 66,
   "metadata": {},
   "outputs": [
    {
     "name": "stdout",
     "output_type": "stream",
     "text": [
      "средние чаевые в заказах пользователей, которые всегда >2 приборов - 42.66\n",
      "средние чаевые в заказах пользователей, которые невсегда >2 приборов - 68.86\n"
     ]
    }
   ],
   "source": [
    "tips_more2 = tips_from2[tips_from2.uid.isin(a)]\n",
    "tips_less3 = tips_from2[tips_from2.uid.isin(b)]\n",
    "print('средние чаевые в заказах пользователей, которые всегда >2 приборов -', round(tips_more2.tips.mean(), 2)) \n",
    "print('средние чаевые в заказах пользователей, которые невсегда >2 приборов -', round(tips_less3.tips.mean(), 2))"
   ]
  },
  {
   "cell_type": "code",
   "execution_count": 67,
   "metadata": {},
   "outputs": [
    {
     "data": {
      "image/png": "[encoded data removed]",
      "text/plain": [
       "<Figure size 1728x1152 with 2 Axes>"
      ]
     },
     "metadata": {
      "needs_background": "light"
     },
     "output_type": "display_data"
    }
   ],
   "source": [
    "pylab.figure(figsize=(24,16))\n",
    "pylab.subplot(2,2,1)\n",
    "stats.probplot(tips_more2.tips, dist=\"norm\", plot=pylab)\n",
    "pylab.subplot(2,2,2)\n",
    "stats.probplot(tips_less3.tips, dist=\"norm\", plot=pylab)\n",
    "pylab.show()"
   ]
  },
  {
   "cell_type": "code",
   "execution_count": 68,
   "metadata": {},
   "outputs": [
    {
     "name": "stdout",
     "output_type": "stream",
     "text": [
      "Shapiro-Wilk normality test, W-statistic: 0.854265, p-value: 0.000000\n",
      "Shapiro-Wilk normality test, W-statistic: 0.945240, p-value: 0.000000\n"
     ]
    }
   ],
   "source": [
    "print(\"Shapiro-Wilk normality test, W-statistic: %f, p-value: %f\" % stats.shapiro(tips_more2.tips))\n",
    "print(\"Shapiro-Wilk normality test, W-statistic: %f, p-value: %f\" % stats.shapiro(tips_less3.tips))"
   ]
  },
  {
   "cell_type": "code",
   "execution_count": 69,
   "metadata": {},
   "outputs": [
    {
     "data": {
      "text/plain": [
       "Ttest_indResult(statistic=-17.89522683980752, pvalue=7.57279791976877e-57)"
      ]
     },
     "execution_count": 69,
     "metadata": {},
     "output_type": "execute_result"
    }
   ],
   "source": [
    "stats.ttest_ind(tips_more2.tips, tips_less3.tips, equal_var = False)"
   ]
  },
  {
   "cell_type": "markdown",
   "metadata": {},
   "source": [
    "#### считаю ВСЕГДА гипотезу опровергнутой"
   ]
  },
  {
   "cell_type": "markdown",
   "metadata": {},
   "source": [
    "#### посомтрим на данные чуть подробнее"
   ]
  },
  {
   "cell_type": "code",
   "execution_count": 70,
   "metadata": {},
   "outputs": [
    {
     "data": {
      "text/plain": [
       "Text(0.5, 0, 'cutlery')"
      ]
     },
     "execution_count": 70,
     "metadata": {},
     "output_type": "execute_result"
    },
    {
     "data": {
      "image/png": "[encoded data removed]",
      "text/plain": [
       "<Figure size 576x432 with 1 Axes>"
      ]
     },
     "metadata": {
      "needs_background": "light"
     },
     "output_type": "display_data"
    }
   ],
   "source": [
    "plt.figure(figsize(8,6))\n",
    "stat = tips_from2.groupby('cutlery')['cutlery'].agg(lambda x : float(len(x))/tips_from2.shape[0])\n",
    "stat.plot(kind='bar', fontsize=14, width=0.9)\n",
    "plt.xticks(rotation=0)\n",
    "plt.ylabel('proportion', fontsize=14)\n",
    "plt.xlabel('cutlery', fontsize=14)"
   ]
  },
  {
   "cell_type": "code",
   "execution_count": 71,
   "metadata": {
    "scrolled": false
   },
   "outputs": [
    {
     "data": {
      "image/png": "[encoded data removed]",
      "text/plain": [
       "<Figure size 1152x2304 with 2 Axes>"
      ]
     },
     "metadata": {
      "needs_background": "light"
     },
     "output_type": "display_data"
    }
   ],
   "source": [
    "pyplot.figure(figsize(16, 32))\n",
    "for i in range (1, 3):\n",
    "    pyplot.subplot(4, 2, i)\n",
    "    pyplot.scatter(tips_from2['tips'], tips_from2[['date', 'cutlery', 'order_price']].iloc[:, i], edgecolors=\"black\")\n",
    "    pyplot.xlabel('tips', fontsize=14)\n",
    "    pyplot.ylabel(str(tips_from2[['date','cutlery', 'order_price']].columns[i]), fontsize=14)"
   ]
  },
  {
   "cell_type": "markdown",
   "metadata": {},
   "source": [
    "#### похоже, чаевые зависят и от колчества приборов, и от суммы заказа"
   ]
  },
  {
   "cell_type": "markdown",
   "metadata": {},
   "source": [
    "Попробуем оценить размер чаевых по параметрам заказа. Изначально возьмем только для параметра (количество приборов и сумма заказа), в дальнейшем можно будет добавить сегмент пользователя, время суток, день недели и т.п., но к жэтому времени аналитики, наверное, уже вернутся. Пока посмотрим на то, что мы будем прогнозировать:"
   ]
  },
  {
   "cell_type": "code",
   "execution_count": 72,
   "metadata": {},
   "outputs": [
    {
     "data": {
      "text/plain": [
       "array([100, 110,  10,  70,  90,  50,  60, 150,  80, 140,  30, 170,  40,\n",
       "        20, 120, 130, 160])"
      ]
     },
     "execution_count": 72,
     "metadata": {},
     "output_type": "execute_result"
    }
   ],
   "source": [
    "tips_from2.tips.unique()"
   ]
  },
  {
   "cell_type": "code",
   "execution_count": 73,
   "metadata": {},
   "outputs": [
    {
     "data": {
      "text/plain": [
       "Text(0.5, 0, 'tips')"
      ]
     },
     "execution_count": 73,
     "metadata": {},
     "output_type": "execute_result"
    },
    {
     "data": {
      "image/png": "[encoded data removed]",
      "text/plain": [
       "<Figure size 1152x432 with 1 Axes>"
      ]
     },
     "metadata": {
      "needs_background": "light"
     },
     "output_type": "display_data"
    }
   ],
   "source": [
    "plt.figure(figsize(16,6))\n",
    "stat = tips_from2.groupby('tips')['tips'].agg(lambda x : float(len(x))/tips_from2.shape[0])\n",
    "stat.plot(kind='bar', fontsize=14, width=0.9)\n",
    "plt.xticks(rotation=0)\n",
    "plt.ylabel('proportion', fontsize=14)\n",
    "plt.xlabel('tips', fontsize=14)"
   ]
  },
  {
   "cell_type": "markdown",
   "metadata": {},
   "source": [
    "задача где-то между регрессией и многоклассовой классификацией - посмотрим, что с регрессией, разобьем выборку на трейн и тест"
   ]
  },
  {
   "cell_type": "code",
   "execution_count": 74,
   "metadata": {},
   "outputs": [],
   "source": [
    "X_train, X_test, y_train, y_test = train_test_split(tips_from2[['cutlery', 'order_price']], \n",
    "                                                    tips_from2.tips, \n",
    "                                                    test_size=0.25, \n",
    "                                                    stratify=tips_from2.tips)"
   ]
  },
  {
   "cell_type": "markdown",
   "metadata": {},
   "source": [
    "Что будет если прогнозировать средним:"
   ]
  },
  {
   "cell_type": "code",
   "execution_count": 75,
   "metadata": {},
   "outputs": [
    {
     "name": "stdout",
     "output_type": "stream",
     "text": [
      "среднеквадратичная на трейне 42.952621832663105\n",
      "среднеквадратичная на тесте 42.93716888659511\n"
     ]
    }
   ],
   "source": [
    "print('среднеквадратичная на трейне', sqrt(mean_squared_error([np.mean(y_train)]*len(y_train), y_train)))\n",
    "print('среднеквадратичная на тесте',sqrt(mean_squared_error([np.mean(y_train)]*len(y_test), y_test)))"
   ]
  },
  {
   "cell_type": "markdown",
   "metadata": {},
   "source": [
    "Попробуем для начала линейную регрессию"
   ]
  },
  {
   "cell_type": "code",
   "execution_count": 76,
   "metadata": {},
   "outputs": [
    {
     "data": {
      "text/plain": [
       "LinearRegression()"
      ]
     },
     "execution_count": 76,
     "metadata": {},
     "output_type": "execute_result"
    }
   ],
   "source": [
    "lm = LinearRegression()\n",
    "lm.fit(X_train, y_train)"
   ]
  },
  {
   "cell_type": "code",
   "execution_count": 77,
   "metadata": {},
   "outputs": [
    {
     "name": "stdout",
     "output_type": "stream",
     "text": [
      "среднеквадратичная на трейне 36.78753733172759\n",
      "среднеквадратичная на тесте 36.81017045969099\n",
      "коэффициент детерминации 0.26503067384113\n"
     ]
    }
   ],
   "source": [
    "print('среднеквадратичная на трейне', sqrt(mean_squared_error(lm.predict(X_train), y_train)))\n",
    "print('среднеквадратичная на тесте', sqrt(mean_squared_error(lm.predict(X_test), y_test)))\n",
    "print('коэффициент детерминации',lm.score(X_test, y_test))"
   ]
  },
  {
   "cell_type": "markdown",
   "metadata": {},
   "source": [
    "А теперь случайный лес"
   ]
  },
  {
   "cell_type": "code",
   "execution_count": 78,
   "metadata": {},
   "outputs": [
    {
     "data": {
      "text/plain": [
       "RandomForestRegressor(min_samples_leaf=3)"
      ]
     },
     "execution_count": 78,
     "metadata": {},
     "output_type": "execute_result"
    }
   ],
   "source": [
    "rf = RandomForestRegressor(n_estimators=100, min_samples_leaf=3)\n",
    "rf.fit(X_train, y_train)"
   ]
  },
  {
   "cell_type": "code",
   "execution_count": 79,
   "metadata": {},
   "outputs": [
    {
     "name": "stdout",
     "output_type": "stream",
     "text": [
      "среднеквадратичная на трейне 30.353673127811383\n",
      "среднеквадратичная на тесте 35.61808114560638\n",
      "коэффициент детерминации 0.3118634986300507\n"
     ]
    }
   ],
   "source": [
    "print('среднеквадратичная на трейне', sqrt(mean_squared_error(rf.predict(X_train), y_train)))\n",
    "print('среднеквадратичная на тесте', sqrt(mean_squared_error(rf.predict(X_test), y_test)))\n",
    "print('коэффициент детерминации', rf.score(X_test, y_test))"
   ]
  },
  {
   "cell_type": "markdown",
   "metadata": {},
   "source": [
    "неидеально, но начало положено=) \n",
    "<br> Что с предсказательной способностью:"
   ]
  },
  {
   "cell_type": "code",
   "execution_count": 80,
   "metadata": {},
   "outputs": [
    {
     "data": {
      "text/html": [
       "<div>\n",
       "<style scoped>\n",
       "    .dataframe tbody tr th:only-of-type {\n",
       "        vertical-align: middle;\n",
       "    }\n",
       "\n",
       "    .dataframe tbody tr th {\n",
       "        vertical-align: top;\n",
       "    }\n",
       "\n",
       "    .dataframe thead th {\n",
       "        text-align: right;\n",
       "    }\n",
       "</style>\n",
       "<table border=\"1\" class=\"dataframe\">\n",
       "  <thead>\n",
       "    <tr style=\"text-align: right;\">\n",
       "      <th></th>\n",
       "      <th>feature name</th>\n",
       "      <th>importance</th>\n",
       "    </tr>\n",
       "  </thead>\n",
       "  <tbody>\n",
       "    <tr>\n",
       "      <th>1</th>\n",
       "      <td>order_price</td>\n",
       "      <td>0.537838</td>\n",
       "    </tr>\n",
       "    <tr>\n",
       "      <th>0</th>\n",
       "      <td>cutlery</td>\n",
       "      <td>0.462162</td>\n",
       "    </tr>\n",
       "  </tbody>\n",
       "</table>\n",
       "</div>"
      ],
      "text/plain": [
       "  feature name  importance\n",
       "1  order_price    0.537838\n",
       "0      cutlery    0.462162"
      ]
     },
     "execution_count": 80,
     "metadata": {},
     "output_type": "execute_result"
    }
   ],
   "source": [
    "importances = pd.DataFrame(zip(X_train.columns, rf.feature_importances_))\n",
    "importances.columns = ['feature name', 'importance']\n",
    "importances.sort_values(by='importance', ascending=False)"
   ]
  },
  {
   "cell_type": "markdown",
   "metadata": {},
   "source": [
    "### похоже сумма заказа чуть больше влияет на разммер чаевых чем количество приборов"
   ]
  }
 ],
 "metadata": {
  "kernelspec": {
   "display_name": "Python 3",
   "language": "python",
   "name": "python3"
  },
  "language_info": {
   "codemirror_mode": {
    "name": "ipython",
    "version": 3
   },
   "file_extension": ".py",
   "mimetype": "text/x-python",
   "name": "python",
   "nbconvert_exporter": "python",
   "pygments_lexer": "ipython3",
   "version": "3.8.5"
  }
 },
 "nbformat": 4,
 "nbformat_minor": 4
}
